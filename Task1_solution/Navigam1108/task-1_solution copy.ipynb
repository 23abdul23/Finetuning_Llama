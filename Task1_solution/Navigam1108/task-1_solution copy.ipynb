{
  "cells": [
    {
      "cell_type": "code",
      "execution_count": 1,
      "metadata": {
        "_cell_guid": "b1076dfc-b9ad-4769-8c92-a6c4dae69d19",
        "_uuid": "8f2839f25d086af736a60e9eeb907d3b93b6e0e5",
        "execution": {
          "iopub.execute_input": "2024-12-08T20:49:54.713107Z",
          "iopub.status.busy": "2024-12-08T20:49:54.712714Z",
          "iopub.status.idle": "2024-12-08T20:49:54.718540Z",
          "shell.execute_reply": "2024-12-08T20:49:54.717470Z",
          "shell.execute_reply.started": "2024-12-08T20:49:54.713072Z"
        },
        "id": "p4BnSz-VvzGN",
        "trusted": true
      },
      "outputs": [],
      "source": [
        "''' Do not change this cell '''\n",
        "#Functions\n",
        "\n",
        "def check_gpu():\n",
        "  if tf.test.gpu_device_name() != '':\n",
        "    print(\"GPU sucessfully connected\")\n",
        "  else: print(\"PLease connect GPU\")\n",
        "\n"
      ]
    },
    {
      "cell_type": "markdown",
      "metadata": {
        "id": "nWWQL00bvzGO"
      },
      "source": [
        "# **#Task 1**#\n"
      ]
    },
    {
      "cell_type": "markdown",
      "metadata": {
        "id": "aeQ8vG6pvzGO"
      },
      "source": []
    },
    {
      "cell_type": "code",
      "execution_count": 2,
      "metadata": {
        "colab": {
          "base_uri": "https://localhost:8080/"
        },
        "execution": {
          "iopub.execute_input": "2024-12-08T20:51:01.377529Z",
          "iopub.status.busy": "2024-12-08T20:51:01.377083Z",
          "iopub.status.idle": "2024-12-08T20:51:01.382275Z",
          "shell.execute_reply": "2024-12-08T20:51:01.381113Z",
          "shell.execute_reply.started": "2024-12-08T20:51:01.377490Z"
        },
        "id": "RB7M7o3qvzGO",
        "outputId": "50352205-5394-44d2-850f-037358c9e151",
        "trusted": true
      },
      "outputs": [
        {
          "name": "stdout",
          "output_type": "stream",
          "text": [
            "Requirement already satisfied: transformers in c:\\users\\prath\\anaconda3\\envs\\tf-gpu\\lib\\site-packages (4.47.0)\n",
            "Requirement already satisfied: datasets in c:\\users\\prath\\anaconda3\\envs\\tf-gpu\\lib\\site-packages (3.2.0)\n",
            "Requirement already satisfied: accelerate in c:\\users\\prath\\anaconda3\\envs\\tf-gpu\\lib\\site-packages (1.2.1)\n",
            "Requirement already satisfied: bitsandbytes in c:\\users\\prath\\anaconda3\\envs\\tf-gpu\\lib\\site-packages (0.45.0)\n",
            "Requirement already satisfied: filelock in c:\\users\\prath\\anaconda3\\envs\\tf-gpu\\lib\\site-packages (from transformers) (3.16.1)\n",
            "Requirement already satisfied: huggingface-hub<1.0,>=0.24.0 in c:\\users\\prath\\anaconda3\\envs\\tf-gpu\\lib\\site-packages (from transformers) (0.26.5)\n",
            "Requirement already satisfied: numpy>=1.17 in c:\\users\\prath\\anaconda3\\envs\\tf-gpu\\lib\\site-packages (from transformers) (1.26.4)\n",
            "Requirement already satisfied: packaging>=20.0 in c:\\users\\prath\\anaconda3\\envs\\tf-gpu\\lib\\site-packages (from transformers) (24.1)\n",
            "Requirement already satisfied: pyyaml>=5.1 in c:\\users\\prath\\anaconda3\\envs\\tf-gpu\\lib\\site-packages (from transformers) (6.0.2)\n",
            "Requirement already satisfied: regex!=2019.12.17 in c:\\users\\prath\\anaconda3\\envs\\tf-gpu\\lib\\site-packages (from transformers) (2024.11.6)\n",
            "Requirement already satisfied: requests in c:\\users\\prath\\anaconda3\\envs\\tf-gpu\\lib\\site-packages (from transformers) (2.32.3)\n",
            "Requirement already satisfied: tokenizers<0.22,>=0.21 in c:\\users\\prath\\anaconda3\\envs\\tf-gpu\\lib\\site-packages (from transformers) (0.21.0)\n",
            "Requirement already satisfied: safetensors>=0.4.1 in c:\\users\\prath\\anaconda3\\envs\\tf-gpu\\lib\\site-packages (from transformers) (0.4.5)\n",
            "Requirement already satisfied: tqdm>=4.27 in c:\\users\\prath\\anaconda3\\envs\\tf-gpu\\lib\\site-packages (from transformers) (4.67.1)\n",
            "Requirement already satisfied: pyarrow>=15.0.0 in c:\\users\\prath\\anaconda3\\envs\\tf-gpu\\lib\\site-packages (from datasets) (18.1.0)\n",
            "Requirement already satisfied: dill<0.3.9,>=0.3.0 in c:\\users\\prath\\anaconda3\\envs\\tf-gpu\\lib\\site-packages (from datasets) (0.3.8)\n",
            "Requirement already satisfied: pandas in c:\\users\\prath\\anaconda3\\envs\\tf-gpu\\lib\\site-packages (from datasets) (2.2.3)\n",
            "Requirement already satisfied: xxhash in c:\\users\\prath\\anaconda3\\envs\\tf-gpu\\lib\\site-packages (from datasets) (3.5.0)\n",
            "Requirement already satisfied: multiprocess<0.70.17 in c:\\users\\prath\\anaconda3\\envs\\tf-gpu\\lib\\site-packages (from datasets) (0.70.16)\n",
            "Requirement already satisfied: fsspec<=2024.9.0,>=2023.1.0 in c:\\users\\prath\\anaconda3\\envs\\tf-gpu\\lib\\site-packages (from fsspec[http]<=2024.9.0,>=2023.1.0->datasets) (2024.9.0)\n",
            "Requirement already satisfied: aiohttp in c:\\users\\prath\\anaconda3\\envs\\tf-gpu\\lib\\site-packages (from datasets) (3.10.5)\n",
            "Requirement already satisfied: psutil in c:\\users\\prath\\anaconda3\\envs\\tf-gpu\\lib\\site-packages (from accelerate) (5.9.0)\n",
            "Requirement already satisfied: torch>=1.10.0 in c:\\users\\prath\\anaconda3\\envs\\tf-gpu\\lib\\site-packages (from accelerate) (1.10.1+cu111)\n",
            "Requirement already satisfied: typing_extensions>=4.8.0 in c:\\users\\prath\\anaconda3\\envs\\tf-gpu\\lib\\site-packages (from bitsandbytes) (4.11.0)\n",
            "Requirement already satisfied: aiohappyeyeballs>=2.3.0 in c:\\users\\prath\\anaconda3\\envs\\tf-gpu\\lib\\site-packages (from aiohttp->datasets) (2.4.3)\n",
            "Requirement already satisfied: aiosignal>=1.1.2 in c:\\users\\prath\\anaconda3\\envs\\tf-gpu\\lib\\site-packages (from aiohttp->datasets) (1.2.0)\n",
            "Requirement already satisfied: attrs>=17.3.0 in c:\\users\\prath\\anaconda3\\envs\\tf-gpu\\lib\\site-packages (from aiohttp->datasets) (24.2.0)\n",
            "Requirement already satisfied: frozenlist>=1.1.1 in c:\\users\\prath\\anaconda3\\envs\\tf-gpu\\lib\\site-packages (from aiohttp->datasets) (1.5.0)\n",
            "Requirement already satisfied: multidict<7.0,>=4.5 in c:\\users\\prath\\anaconda3\\envs\\tf-gpu\\lib\\site-packages (from aiohttp->datasets) (6.1.0)\n",
            "Requirement already satisfied: yarl<2.0,>=1.0 in c:\\users\\prath\\anaconda3\\envs\\tf-gpu\\lib\\site-packages (from aiohttp->datasets) (1.18.0)\n",
            "Requirement already satisfied: async-timeout<5.0,>=4.0 in c:\\users\\prath\\anaconda3\\envs\\tf-gpu\\lib\\site-packages (from aiohttp->datasets) (4.0.3)\n",
            "Requirement already satisfied: charset-normalizer<4,>=2 in c:\\users\\prath\\anaconda3\\envs\\tf-gpu\\lib\\site-packages (from requests->transformers) (3.3.2)\n",
            "Requirement already satisfied: idna<4,>=2.5 in c:\\users\\prath\\anaconda3\\envs\\tf-gpu\\lib\\site-packages (from requests->transformers) (3.7)\n",
            "Requirement already satisfied: urllib3<3,>=1.21.1 in c:\\users\\prath\\anaconda3\\envs\\tf-gpu\\lib\\site-packages (from requests->transformers) (2.2.3)\n",
            "Requirement already satisfied: certifi>=2017.4.17 in c:\\users\\prath\\anaconda3\\envs\\tf-gpu\\lib\\site-packages (from requests->transformers) (2024.8.30)\n",
            "Requirement already satisfied: colorama in c:\\users\\prath\\anaconda3\\envs\\tf-gpu\\lib\\site-packages (from tqdm>=4.27->transformers) (0.4.6)\n",
            "Requirement already satisfied: python-dateutil>=2.8.2 in c:\\users\\prath\\anaconda3\\envs\\tf-gpu\\lib\\site-packages (from pandas->datasets) (2.9.0.post0)\n",
            "Requirement already satisfied: pytz>=2020.1 in c:\\users\\prath\\anaconda3\\envs\\tf-gpu\\lib\\site-packages (from pandas->datasets) (2024.1)\n",
            "Requirement already satisfied: tzdata>=2022.7 in c:\\users\\prath\\anaconda3\\envs\\tf-gpu\\lib\\site-packages (from pandas->datasets) (2024.2)\n",
            "Requirement already satisfied: six>=1.5 in c:\\users\\prath\\anaconda3\\envs\\tf-gpu\\lib\\site-packages (from python-dateutil>=2.8.2->pandas->datasets) (1.16.0)\n",
            "Requirement already satisfied: propcache>=0.2.0 in c:\\users\\prath\\anaconda3\\envs\\tf-gpu\\lib\\site-packages (from yarl<2.0,>=1.0->aiohttp->datasets) (0.2.0)\n"
          ]
        }
      ],
      "source": [
        "#import all the required packages and  libraries for FineTuning LLM\n",
        "!pip install transformers datasets accelerate bitsandbytes\n",
        "from transformers import AutoModelForCausalLM, AutoTokenizer, Trainer, TrainingArguments\n",
        "from datasets import load_dataset\n",
        "import torch\n",
        "import tensorflow as tf"
      ]
    },
    {
      "cell_type": "code",
      "execution_count": 3,
      "metadata": {
        "execution": {
          "iopub.execute_input": "2024-12-08T20:51:01.738727Z",
          "iopub.status.busy": "2024-12-08T20:51:01.738352Z",
          "iopub.status.idle": "2024-12-08T20:51:01.743537Z",
          "shell.execute_reply": "2024-12-08T20:51:01.742375Z",
          "shell.execute_reply.started": "2024-12-08T20:51:01.738683Z"
        },
        "id": "7L5VK_5LvzGP",
        "trusted": true
      },
      "outputs": [
        {
          "name": "stdout",
          "output_type": "stream",
          "text": [
            "GPU Name: NVIDIA GeForce RTX 4050 Laptop GPU\n",
            "Using device: cuda\n",
            "tensor([1., 2., 3.], device='cuda:0')\n"
          ]
        }
      ],
      "source": [
        "#Setup and check a gpu connection.\n",
        "\n",
        "if torch.cuda.is_available():\n",
        "    print(f\"GPU Name: {torch.cuda.get_device_name(0)}\")\n",
        "else:\n",
        "    print(\"No GPU detected. Please enable GPU runtime.\")\n",
        "\n",
        "device = torch.device(\"cuda\" if torch.cuda.is_available() else \"cpu\")\n",
        "print(f\"Using device: {device}\")\n",
        "\n",
        "# Checking connection by running\n",
        "x = torch.tensor([1.0, 2.0, 3.0]).to(device)\n",
        "print(x)"
      ]
    },
    {
      "cell_type": "code",
      "execution_count": 4,
      "metadata": {
        "colab": {
          "base_uri": "https://localhost:8080/"
        },
        "collapsed": true,
        "execution": {
          "iopub.execute_input": "2024-12-08T20:50:26.179129Z",
          "iopub.status.busy": "2024-12-08T20:50:26.178758Z",
          "iopub.status.idle": "2024-12-08T20:50:26.447864Z",
          "shell.execute_reply": "2024-12-08T20:50:26.446424Z",
          "shell.execute_reply.started": "2024-12-08T20:50:26.179095Z"
        },
        "id": "xyAz2PcWvzGP",
        "jupyter": {
          "outputs_hidden": true
        },
        "outputId": "7b69ebfe-a099-454d-ab5e-b068fb8543fb",
        "trusted": true
      },
      "outputs": [
        {
          "name": "stdout",
          "output_type": "stream",
          "text": [
            "GPU sucessfully connected\n"
          ]
        }
      ],
      "source": [
        "''' Do not change this cell '''\n",
        "check_gpu()\n"
      ]
    },
    {
      "cell_type": "markdown",
      "metadata": {
        "id": "eL9viw2hvzGP"
      },
      "source": [
        "Check the dataset\n",
        "\n",
        "https://huggingface.co/datasets/jizzu/llama2_indian_law_v2"
      ]
    },
    {
      "cell_type": "markdown",
      "metadata": {
        "id": "xC9pP4StvzGP"
      },
      "source": []
    }
  ],
  "metadata": {
    "accelerator": "GPU",
    "colab": {
      "gpuType": "T4",
      "provenance": []
    },
    "kaggle": {
      "accelerator": "none",
      "dataSources": [],
      "dockerImageVersionId": 30804,
      "isGpuEnabled": false,
      "isInternetEnabled": true,
      "language": "python",
      "sourceType": "notebook"
    },
    "kernelspec": {
      "display_name": "Python 3 (ipykernel)",
      "language": "python",
      "name": "python3"
    },
    "language_info": {
      "codemirror_mode": {
        "name": "ipython",
        "version": 3
      },
      "file_extension": ".py",
      "mimetype": "text/x-python",
      "name": "python",
      "nbconvert_exporter": "python",
      "pygments_lexer": "ipython3",
      "version": "3.9.18"
    }
  },
  "nbformat": 4,
  "nbformat_minor": 0
}
